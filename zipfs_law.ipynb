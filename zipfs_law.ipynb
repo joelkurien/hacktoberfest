{
 "cells": [
  {
   "cell_type": "code",
   "execution_count": 1,
   "metadata": {},
   "outputs": [],
   "source": [
    "import nltk\n",
    "import scipy.stats as ss\n",
    "import matplotlib.pyplot as plt \n",
    "import math"
   ]
  },
  {
   "cell_type": "code",
   "execution_count": 2,
   "metadata": {},
   "outputs": [],
   "source": [
    "from nltk.corpus import reuters\n",
    "from nltk.corpus import wordnet"
   ]
  },
  {
   "cell_type": "code",
   "execution_count": 3,
   "metadata": {},
   "outputs": [],
   "source": [
    "reuters_words = [w.lower() for w in reuters.words()]\n",
    "words = set(reuters_words)\n",
    "counts = [(w, reuters_words.count(w)) for w in words]"
   ]
  },
  {
   "cell_type": "code",
   "execution_count": 4,
   "metadata": {},
   "outputs": [],
   "source": [
    "words_1 = [w for (w, c) in counts]\n",
    "counts_1 = [c for (w, c) in counts]"
   ]
  },
  {
   "cell_type": "code",
   "execution_count": 5,
   "metadata": {},
   "outputs": [
    {
     "data": {
      "text/plain": [
       "array([ 18567. ,  13183.5,  23206. , ...,  28664. ,  16537.5,  16537.5])"
      ]
     },
     "execution_count": 5,
     "metadata": {},
     "output_type": "execute_result"
    }
   ],
   "source": [
    "count_rank = ss.rankdata([c for (w, c) in counts])\n",
    "count_rank"
   ]
  },
  {
   "cell_type": "code",
   "execution_count": 6,
   "metadata": {},
   "outputs": [
    {
     "data": {
      "text/plain": [
       "[(u'shopwell', 2, 13183.5),\n",
       " (u'sedi', 1, 5513.0),\n",
       " (u'adoped', 1, 5513.0),\n",
       " (u'tulis', 2, 13183.5),\n",
       " (u'18th', 1, 5513.0),\n",
       " (u'menlo', 1, 5513.0),\n",
       " (u'reiners', 5, 19949.0),\n",
       " (u'farmlands', 4, 18567.0),\n",
       " (u'nonsensical', 1, 5513.0),\n",
       " (u'elisra', 1, 5513.0)]"
      ]
     },
     "execution_count": 6,
     "metadata": {},
     "output_type": "execute_result"
    }
   ],
   "source": [
    "counts_ranked = zip(words_1, counts_1, count_rank)\n",
    "counts_ranked[100:110]"
   ]
  },
  {
   "cell_type": "code",
   "execution_count": 7,
   "metadata": {},
   "outputs": [
    {
     "data": {
      "text/plain": [
       "[(u'packer', 5, 19949.0),\n",
       " (u'ucu', 5, 19949.0),\n",
       " (u'antar', 5, 19949.0),\n",
       " (u'ultra', 5, 19949.0),\n",
       " (u'kra', 5, 19949.0),\n",
       " (u'regan', 5, 19949.0),\n",
       " (u'leaseback', 5, 19949.0),\n",
       " (u'bildner', 5, 19949.0),\n",
       " (u'chartering', 5, 19949.0),\n",
       " (u'transparency', 5, 19949.0)]"
      ]
     },
     "execution_count": 7,
     "metadata": {},
     "output_type": "execute_result"
    }
   ],
   "source": [
    "counts_sorted = sorted(counts_ranked, key=lambda (w, c, r) : r)\n",
    "counts_sorted[20000:20010]"
   ]
  },
  {
   "cell_type": "code",
   "execution_count": 8,
   "metadata": {},
   "outputs": [],
   "source": [
    "L = len(counts_sorted)"
   ]
  },
  {
   "cell_type": "code",
   "execution_count": 9,
   "metadata": {},
   "outputs": [
    {
     "data": {
      "text/plain": [
       "[<matplotlib.lines.Line2D at 0x7f05de8cea90>]"
      ]
     },
     "execution_count": 9,
     "metadata": {},
     "output_type": "execute_result"
    },
    {
     "data": {
      "image/png": "[encoded data removed]",
      "text/plain": [
       "<matplotlib.figure.Figure at 0x7f05deb98c50>"
      ]
     },
     "metadata": {
      "needs_background": "light"
     },
     "output_type": "display_data"
    }
   ],
   "source": [
    "plt.plot([math.log(L-r+1) for (w, c, r) in counts_sorted], [math.log(c) for (w, c, r) in counts_sorted], 'ro')"
   ]
  },
  {
   "cell_type": "code",
   "execution_count": 10,
   "metadata": {},
   "outputs": [],
   "source": [
    "import numpy as np"
   ]
  },
  {
   "cell_type": "code",
   "execution_count": 12,
   "metadata": {},
   "outputs": [
    {
     "name": "stdout",
     "output_type": "stream",
     "text": [
      "[[ -1.59893073]\n",
      " [ 16.37719998]]\n"
     ]
    }
   ],
   "source": [
    "# generate x and y\n",
    "x = [math.log(L-r+1) for (w, c, r) in counts_sorted]\n",
    "y = [math.log(c) for (w,c,r) in counts_sorted]\n",
    "X = np.array(x)\n",
    "Y = np.array(y)\n",
    "A = np.vstack([X, np.ones(len(X))]).T\n",
    "Y_ = Y[:, np.newaxis]\n",
    "alpha = np.dot((np.dot(np.linalg.inv(np.dot(A.T,A)),A.T)),Y_)\n",
    "print(alpha)"
   ]
  },
  {
   "cell_type": "code",
   "execution_count": 13,
   "metadata": {},
   "outputs": [
    {
     "data": {
      "image/png": "[encoded data removed]",
      "text/plain": [
       "<matplotlib.figure.Figure at 0x7f05de7c3090>"
      ]
     },
     "metadata": {
      "needs_background": "light"
     },
     "output_type": "display_data"
    }
   ],
   "source": [
    "plt.plot(X, Y, 'b.')\n",
    "plt.plot(X, alpha[0]*X + alpha[1], 'r')\n",
    "plt.xlabel('log(rank)')\n",
    "plt.ylabel('log(frequency)')\n",
    "plt.show()"
   ]
  },
  {
   "cell_type": "code",
   "execution_count": null,
   "metadata": {},
   "outputs": [],
   "source": []
  }
 ],
 "metadata": {
  "kernelspec": {
   "display_name": "Python 3",
   "language": "python",
   "name": "python3"
  },
  "language_info": {
   "codemirror_mode": {
    "name": "ipython",
    "version": 2
   },
   "file_extension": ".py",
   "mimetype": "text/x-python",
   "name": "python",
   "nbconvert_exporter": "python",
   "pygments_lexer": "ipython2",
   "version": "2.7.13"
  }
 },
 "nbformat": 4,
 "nbformat_minor": 2
}
