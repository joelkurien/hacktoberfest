{
 "cells": [
  {
   "cell_type": "code",
   "execution_count": 18,
   "metadata": {},
   "outputs": [],
   "source": [
    "#calculate the optimal MAP of the retrieval system\n",
    "import csv\n",
    "\n",
    "def find_MAP():\n",
    "    query_array = {}\n",
    "    doc_array = []\n",
    "    MAP_array = []\n",
    "    for x in range(4):\n",
    "        with open(r'C:\\Users\\NEW\\Downloads\\cran\\cranqrel', 'r') as rel:\n",
    "            csv_read = csv.reader(rel)\n",
    "            for row in csv_read:\n",
    "                q_no, doc_no, rel_no = row[0].split()\n",
    "                doc_array.append(doc_no)\n",
    "                if q_no in query_array:\n",
    "                    if int(rel_no)<=5:\n",
    "                        query_array[q_no].append([doc_no, rel_no])\n",
    "                    else:\n",
    "                        query_array[q_no].append([doc_no, rel_no+x])\n",
    "                else:\n",
    "                    query_array[q_no] = [[doc_no, rel_no]]\n",
    "        precision_array = []\n",
    "        for q_no in query_array:\n",
    "            precision = []\n",
    "            for i in range(len(query_array[q_no])):\n",
    "                k=0\n",
    "                relevant_docs = 0\n",
    "                for value in query_array[q_no][:i+1]:\n",
    "                    if int(value[1])>=3:\n",
    "                        relevant_docs += 1\n",
    "                precision_value = relevant_docs/(i+1)\n",
    "                precision.append(precision_value)\n",
    "            precision_array.append(sum(precision)/len(query_array[q_no]))\n",
    "        mean_average_precision = sum(precision_array)/len(query_array)\n",
    "        MAP_array.append(mean_average_precision)\n",
    "    print(f'The optimal MAP value when the relevance score was changed is {max(MAP_array)}')"
   ]
  },
  {
   "cell_type": "code",
   "execution_count": 19,
   "metadata": {},
   "outputs": [
    {
     "name": "stdout",
     "output_type": "stream",
     "text": [
      "The optimal MAP value when the relevance score was changed is 0.5096697886042982\n"
     ]
    }
   ],
   "source": [
    "find_MAP()"
   ]
  },
  {
   "cell_type": "code",
   "execution_count": null,
   "metadata": {},
   "outputs": [],
   "source": []
  }
 ],
 "metadata": {
  "kernelspec": {
   "display_name": "Python 3",
   "language": "python",
   "name": "python3"
  },
  "language_info": {
   "codemirror_mode": {
    "name": "ipython",
    "version": 3
   },
   "file_extension": ".py",
   "mimetype": "text/x-python",
   "name": "python",
   "nbconvert_exporter": "python",
   "pygments_lexer": "ipython3",
   "version": "3.7.4"
  }
 },
 "nbformat": 4,
 "nbformat_minor": 2
}
